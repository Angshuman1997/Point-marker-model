{
 "cells": [
  {
   "cell_type": "code",
   "execution_count": 3,
   "metadata": {},
   "outputs": [],
   "source": [
    "import numpy as np\n",
    "import cv2"
   ]
  },
  {
   "cell_type": "code",
   "execution_count": 4,
   "metadata": {},
   "outputs": [],
   "source": [
    "img=cv2.imread('Test.png')"
   ]
  },
  {
   "cell_type": "code",
   "execution_count": 8,
   "metadata": {},
   "outputs": [],
   "source": [
    "cv2.imshow('Test',img)\n",
    "cv2.waitKey(0)\n",
    "cv2.destroyAllWindows()"
   ]
  },
  {
   "cell_type": "markdown",
   "metadata": {},
   "source": [
    "### Image Pointing"
   ]
  },
  {
   "cell_type": "code",
   "execution_count": 9,
   "metadata": {},
   "outputs": [
    {
     "name": "stderr",
     "output_type": "stream",
     "text": [
      "<ipython-input-9-ad176e82a03d>:13: DeprecationWarning: an integer is required (got type numpy.float32).  Implicit conversion to integers using __int__ is deprecated, and may be removed in a future version of Python.\n",
      "  cv2.circle(img,(pts1[x][0],pts1[x][1]),15,(0,255,0),cv2.FILLED)\n"
     ]
    },
    {
     "data": {
      "text/plain": [
       "-1"
      ]
     },
     "execution_count": 9,
     "metadata": {},
     "output_type": "execute_result"
    }
   ],
   "source": [
    "import cv2\n",
    "import numpy as np\n",
    " \n",
    "img = cv2.imread(r'C:\\Users\\angshuman\\Desktop\\Test\\Test.png')\n",
    " \n",
    "width, height = 250,350\n",
    "pts1 = np.float32([[111,219],[287,188],[154,482],[352,440]])\n",
    "pts2 = np.float32([[0,0],[width,0],[0,height],[width,height]])\n",
    "matrix = cv2.getPerspectiveTransform(pts1,pts2)\n",
    "imgOutput = cv2.warpPerspective(img,matrix,(width,height))\n",
    " \n",
    "for x in range (0,4):\n",
    "    cv2.circle(img,(pts1[x][0],pts1[x][1]),15,(0,255,0),cv2.FILLED)\n",
    " \n",
    "cv2.imshow(\"Original Image \", img)\n",
    "cv2.imshow(\"Output Image \", imgOutput)\n",
    "cv2.waitKey(0)"
   ]
  },
  {
   "cell_type": "markdown",
   "metadata": {},
   "source": [
    "### Clicking And finding coordinates in x,y"
   ]
  },
  {
   "cell_type": "code",
   "execution_count": 5,
   "metadata": {},
   "outputs": [
    {
     "name": "stdout",
     "output_type": "stream",
     "text": [
      "134 276\n",
      "225 275\n",
      "315 273\n",
      "406 273\n",
      "135 465\n",
      "224 467\n",
      "314 466\n",
      "405 466\n"
     ]
    },
    {
     "data": {
      "text/plain": [
       "-1"
      ]
     },
     "execution_count": 5,
     "metadata": {},
     "output_type": "execute_result"
    }
   ],
   "source": [
    "def mousePoints(event,x,y,flags,params):\n",
    "    if event == cv2.EVENT_LBUTTONDOWN:\n",
    "        print(x,y)\n",
    "        \n",
    "img=cv2.imread(r'C:\\Users\\angshuman\\Desktop\\Test\\Test.png')\n",
    "cv2.imshow('Test',img)\n",
    "cv2.setMouseCallback('Test',mousePoints)\n",
    "cv2.waitKey(0)"
   ]
  },
  {
   "cell_type": "markdown",
   "metadata": {},
   "source": [
    "### Mark on image "
   ]
  },
  {
   "cell_type": "code",
   "execution_count": 5,
   "metadata": {},
   "outputs": [
    {
     "name": "stdout",
     "output_type": "stream",
     "text": [
      "[[131 274]\n",
      " [  0   0]\n",
      " [  0   0]\n",
      " [  0   0]]\n",
      "[[131 274]\n",
      " [133 467]\n",
      " [  0   0]\n",
      " [  0   0]]\n",
      "[[131 274]\n",
      " [133 467]\n",
      " [268 465]\n",
      " [  0   0]]\n",
      "[[131 274]\n",
      " [133 467]\n",
      " [268 465]\n",
      " [269 272]]\n"
     ]
    }
   ],
   "source": [
    "import numpy as np\n",
    "import cv2\n",
    "circles=np.zeros((4,2),np.int)\n",
    "counter=0\n",
    "\n",
    "def mousePoints(event,x,y,flags,params):\n",
    "    global counter\n",
    "    if event == cv2.EVENT_LBUTTONDOWN:\n",
    "        \n",
    "        circles[counter]=x,y\n",
    "        counter=counter+1\n",
    "        print(circles)\n",
    "    \n",
    "img = cv2.imread(r'C:\\Users\\angshuman\\Desktop\\Test\\Test.png')\n",
    "\n",
    "while True:\n",
    "    if counter==4:\n",
    "        width, height = 250,350\n",
    "        pts1 = np.float32([circles[0],circles[1],circles[2],circles[3]])\n",
    "        pts2 = np.float32([[0,0],[width,0],[0,height],[width,height]])\n",
    "        matrix = cv2.getPerspectiveTransform(pts1,pts2)\n",
    "        imgOutput = cv2.warpPerspective(img,matrix,(width,height))\n",
    "        cv2.imshow('Output',imgOutput)\n",
    "\n",
    "    for x in range (0,4):\n",
    "        cv2.circle(img,(circles[x][0],circles[x][1]),5,(0,255,0),cv2.FILLED)\n",
    " \n",
    "        \n",
    "    cv2.imshow('Test',img)\n",
    "    cv2.setMouseCallback('Test',mousePoints)\n",
    "    cv2.waitKey(0)\n",
    "    \n",
    "    if counter==4:\n",
    "        cv2.destroyAllWindows()\n",
    "        break\n",
    "    \n"
   ]
  },
  {
   "cell_type": "code",
   "execution_count": 9,
   "metadata": {},
   "outputs": [
    {
     "name": "stdout",
     "output_type": "stream",
     "text": [
      "134 276\n",
      "228 274\n",
      "315 274\n",
      "401 274\n",
      "133 465\n",
      "226 466\n",
      "314 466\n",
      "404 467\n"
     ]
    },
    {
     "ename": "IndexError",
     "evalue": "index 8 is out of bounds for axis 0 with size 8",
     "output_type": "error",
     "traceback": [
      "\u001b[1;31m---------------------------------------------------------------------------\u001b[0m",
      "\u001b[1;31mIndexError\u001b[0m                                Traceback (most recent call last)",
      "\u001b[1;32m<ipython-input-9-9daad1597bf4>\u001b[0m in \u001b[0;36mmousePoints\u001b[1;34m(event, x, y, flags, params)\u001b[0m\n\u001b[0;32m      8\u001b[0m     \u001b[1;32mif\u001b[0m \u001b[0mevent\u001b[0m \u001b[1;33m==\u001b[0m \u001b[0mcv2\u001b[0m\u001b[1;33m.\u001b[0m\u001b[0mEVENT_LBUTTONDOWN\u001b[0m\u001b[1;33m:\u001b[0m\u001b[1;33m\u001b[0m\u001b[1;33m\u001b[0m\u001b[0m\n\u001b[0;32m      9\u001b[0m \u001b[1;33m\u001b[0m\u001b[0m\n\u001b[1;32m---> 10\u001b[1;33m         \u001b[0mcircles\u001b[0m\u001b[1;33m[\u001b[0m\u001b[0mcounter\u001b[0m\u001b[1;33m]\u001b[0m\u001b[1;33m=\u001b[0m\u001b[0mx\u001b[0m\u001b[1;33m,\u001b[0m\u001b[0my\u001b[0m\u001b[1;33m\u001b[0m\u001b[1;33m\u001b[0m\u001b[0m\n\u001b[0m\u001b[0;32m     11\u001b[0m         \u001b[0mcounter\u001b[0m\u001b[1;33m=\u001b[0m\u001b[0mcounter\u001b[0m\u001b[1;33m+\u001b[0m\u001b[1;36m1\u001b[0m\u001b[1;33m\u001b[0m\u001b[1;33m\u001b[0m\u001b[0m\n\u001b[0;32m     12\u001b[0m         \u001b[0mprint\u001b[0m\u001b[1;33m(\u001b[0m\u001b[0mx\u001b[0m\u001b[1;33m,\u001b[0m\u001b[0my\u001b[0m\u001b[1;33m)\u001b[0m\u001b[1;33m\u001b[0m\u001b[1;33m\u001b[0m\u001b[0m\n",
      "\u001b[1;31mIndexError\u001b[0m: index 8 is out of bounds for axis 0 with size 8"
     ]
    }
   ],
   "source": [
    "import numpy as np\n",
    "import cv2\n",
    "circles=np.zeros((8,2),np.int)\n",
    "counter=0\n",
    "\n",
    "def mousePoints(event,x,y,flags,params):\n",
    "    global counter\n",
    "    if event == cv2.EVENT_LBUTTONDOWN:\n",
    "        \n",
    "        circles[counter]=x,y\n",
    "        counter=counter+1\n",
    "        print(x,y)\n",
    "while True:\n",
    "    img=cv2.imread(r'C:\\Users\\angshuman\\Desktop\\Test\\Test.png')\n",
    "    cv2.imshow('Test',img)\n",
    "    cv2.setMouseCallback('Test',mousePoints)\n",
    "    cv2.waitKey(0)\n",
    "    if counter==8:\n",
    "        cv2.destroyAllWindows()\n",
    "        break\n"
   ]
  },
  {
   "cell_type": "code",
   "execution_count": 2,
   "metadata": {},
   "outputs": [
    {
     "name": "stdout",
     "output_type": "stream",
     "text": [
      "[[134 274]\n",
      " [225 275]\n",
      " [312 272]\n",
      " [405 274]\n",
      " [134 465]\n",
      " [224 468]\n",
      " [315 466]\n",
      " [404 466]]\n"
     ]
    }
   ],
   "source": [
    "print(circles)"
   ]
  },
  {
   "cell_type": "code",
   "execution_count": 10,
   "metadata": {},
   "outputs": [
    {
     "data": {
      "text/plain": [
       "276"
      ]
     },
     "execution_count": 10,
     "metadata": {},
     "output_type": "execute_result"
    }
   ],
   "source": [
    "circles[0][1]"
   ]
  },
  {
   "cell_type": "code",
   "execution_count": null,
   "metadata": {},
   "outputs": [],
   "source": []
  }
 ],
 "metadata": {
  "kernelspec": {
   "display_name": "Python 3",
   "language": "python",
   "name": "python3"
  },
  "language_info": {
   "codemirror_mode": {
    "name": "ipython",
    "version": 3
   },
   "file_extension": ".py",
   "mimetype": "text/x-python",
   "name": "python",
   "nbconvert_exporter": "python",
   "pygments_lexer": "ipython3",
   "version": "3.8.3"
  }
 },
 "nbformat": 4,
 "nbformat_minor": 4
}
